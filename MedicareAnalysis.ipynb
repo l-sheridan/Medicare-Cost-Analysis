{
 "cells": [
  {
   "cell_type": "code",
   "execution_count": null,
   "id": "5a3bde3e-57d6-41df-9e85-a5f9fd82efb7",
   "metadata": {},
   "outputs": [],
   "source": [
    "# Medicare Cost Analysis\n",
    "\n",
    "# OBJECTIVE: \n",
    "# This analysis aims to evaluate Medicare financial performance overall and by various organizations by \n",
    "# focusing on diagnosis related groups within Medicare claims data.\n",
    "\n",
    "#----------------------------------------------------------------------------------------------------------\n",
    "# PART 1: Data cleaning. Evaluate for missingness, rename variables to be easier to use.\n",
    "# PART 2: Calculate diagnosis related groups by average covered charges, including top 10 DRGs. \n",
    "# PART 3: Calculate average Medicare payments by provider organization and grouped by state. \n",
    "# -------- Include top 10 provider organizations by average medicare payments. \n"
   ]
  },
  {
   "cell_type": "code",
   "execution_count": null,
   "id": "b564931d-8a03-4532-a4eb-4833988cd03c",
   "metadata": {
    "scrolled": true
   },
   "outputs": [],
   "source": [
    "!pip install pandas numpy matplotlib seaborn"
   ]
  },
  {
   "cell_type": "code",
   "execution_count": 49,
   "id": "94b13252-f4a6-4a9b-a5ca-0a7849789683",
   "metadata": {},
   "outputs": [],
   "source": [
    "\n",
    "\n",
    "import pandas as pd\n",
    "import numpy as np\n",
    "import matplotlib.pyplot as plt\n",
    "import seaborn as sns\n",
    "\n",
    "# Make plots look nice in the notebook\n",
    "%matplotlib inline\n",
    "sns.set(style=\"whitegrid\")\n"
   ]
  },
  {
   "cell_type": "code",
   "execution_count": 50,
   "id": "8712611c-b426-4abc-be5a-c31d556f204b",
   "metadata": {},
   "outputs": [
    {
     "data": {
      "text/plain": [
       "'2.2.3'"
      ]
     },
     "execution_count": 50,
     "metadata": {},
     "output_type": "execute_result"
    }
   ],
   "source": [
    "pd.__version__"
   ]
  },
  {
   "cell_type": "code",
   "execution_count": 51,
   "id": "da7c536d-0976-4595-b789-ac54f06c5626",
   "metadata": {
    "scrolled": true
   },
   "outputs": [
    {
     "name": "stdout",
     "output_type": "stream",
     "text": [
      "<class 'pandas.core.frame.DataFrame'>\n",
      "RangeIndex: 145742 entries, 0 to 145741\n",
      "Data columns (total 15 columns):\n",
      " #   Column                     Non-Null Count   Dtype  \n",
      "---  ------                     --------------   -----  \n",
      " 0   Rndrng_Prvdr_CCN           145742 non-null  int64  \n",
      " 1   Rndrng_Prvdr_Org_Name      145742 non-null  object \n",
      " 2   Rndrng_Prvdr_City          145742 non-null  object \n",
      " 3   Rndrng_Prvdr_St            145742 non-null  object \n",
      " 4   Rndrng_Prvdr_State_FIPS    145742 non-null  int64  \n",
      " 5   Rndrng_Prvdr_Zip5          145742 non-null  int64  \n",
      " 6   Rndrng_Prvdr_State_Abrvtn  145742 non-null  object \n",
      " 7   Rndrng_Prvdr_RUCA          145065 non-null  float64\n",
      " 8   Rndrng_Prvdr_RUCA_Desc     145065 non-null  object \n",
      " 9   DRG_Cd                     145742 non-null  int64  \n",
      " 10  DRG_Desc                   145742 non-null  object \n",
      " 11  Tot_Dschrgs                145742 non-null  int64  \n",
      " 12  Avg_Submtd_Cvrd_Chrg       145742 non-null  float64\n",
      " 13  Avg_Tot_Pymt_Amt           145742 non-null  float64\n",
      " 14  Avg_Mdcr_Pymt_Amt          145742 non-null  float64\n",
      "dtypes: float64(4), int64(5), object(6)\n",
      "memory usage: 16.7+ MB\n"
     ]
    },
    {
     "data": {
      "text/plain": [
       "Rndrng_Prvdr_CCN               0\n",
       "Rndrng_Prvdr_Org_Name          0\n",
       "Rndrng_Prvdr_City              0\n",
       "Rndrng_Prvdr_St                0\n",
       "Rndrng_Prvdr_State_FIPS        0\n",
       "Rndrng_Prvdr_Zip5              0\n",
       "Rndrng_Prvdr_State_Abrvtn      0\n",
       "Rndrng_Prvdr_RUCA            677\n",
       "Rndrng_Prvdr_RUCA_Desc       677\n",
       "DRG_Cd                         0\n",
       "DRG_Desc                       0\n",
       "Tot_Dschrgs                    0\n",
       "Avg_Submtd_Cvrd_Chrg           0\n",
       "Avg_Tot_Pymt_Amt               0\n",
       "Avg_Mdcr_Pymt_Amt              0\n",
       "dtype: int64"
      ]
     },
     "execution_count": 51,
     "metadata": {},
     "output_type": "execute_result"
    }
   ],
   "source": [
    "# Inspect data for names, numeric column stats, missing values\n",
    "import pandas as pd\n",
    "df = pd.read_csv(\"data/MUP_INP_RY24_P03_V10_DY22_PrvSvc.CSV\", encoding = \"cp1252\")\n",
    "df.head()\n",
    "df.info()\n",
    "df.describe()\n",
    "\n",
    "df.isnull().sum()\n",
    "# 677 RUCA missingness - not relevant for our purposes; keep for later "
   ]
  },
  {
   "cell_type": "code",
   "execution_count": 52,
   "id": "334b1d1c-f838-4a15-9eec-c0bdf0972eb0",
   "metadata": {
    "scrolled": true
   },
   "outputs": [],
   "source": [
    "# Renamed all this to the term name in the Medicare Data Dictionary\n",
    "df.rename(columns=\n",
    "          {'Rndrng_Prvdr_CCN': 'Rendering Provider CCN',\n",
    "           'Rndrng_Prvdr_Org_Name': 'Rendering Provider Org. Name',\n",
    "           'Rndrng_Prvdr_City': 'Rendering Provider City',\n",
    "           'Rndrng_Prvdr_St': 'Rendering Provider Street',\n",
    "           'Rndrng_Prvdr_State_Abrvtn': 'Rendering Provider State Abreviation',\n",
    "           'Rndrng_Prvdr_State_FIPS': 'Rendering Provider State FIPS Code',\n",
    "           'Rndrng_Prvdr_Zip5': 'Rendering Provider Zip Code',\n",
    "           'Rndrng_Prvdr_RUCA': 'Rendering Provider Rural-Urban Commuting Code', \n",
    "           'Rndrng_Prvdr_RUCA_Desc': 'Rendering Provider Rural-Urban Commuting Area Description',\n",
    "           'DRG_Cd': 'Diagnosis Related Group (DRG) Definition', \n",
    "           'DRG_Desc': 'Diagnosis Related Group (DRG) Description',\n",
    "           'Tot_Dschrgs': 'Total Discharges',\n",
    "           'Avg_Submtd_Cvrd_Chrg': 'Average Covered Charges',\n",
    "           'Avg_Tot_Pymt_Amt': 'Average Total Payments',\n",
    "           'Avg_Mdcr_Pymt_Amt': 'Average Medicare Payments'}, inplace=True)\n",
    "           \n",
    "           "
   ]
  },
  {
   "cell_type": "code",
   "execution_count": 54,
   "id": "1fe1cfbd-6bbb-49fd-9703-a978eebfc4b6",
   "metadata": {},
   "outputs": [
    {
     "data": {
      "text/plain": [
       "Diagnosis Related Group (DRG) Definition\n",
       "18    1,825,808.39\n",
       "1     1,502,717.93\n",
       "7       936,285.60\n",
       "3       893,105.51\n",
       "814     762,380.61\n",
       "5       722,069.06\n",
       "14      612,851.60\n",
       "576     581,024.92\n",
       "4       580,486.76\n",
       "8       504,290.46\n",
       "Name: Average Covered Charges, dtype: float64"
      ]
     },
     "execution_count": 54,
     "metadata": {},
     "output_type": "execute_result"
    }
   ],
   "source": [
    "DRG_Avg_Charge = df.groupby('Diagnosis Related Group (DRG) Definition')['Average Covered Charges'].mean()\n",
    "\n",
    "# sort in descending order for highest averages\n",
    "DRG_sorted = DRG_Avg_Charge.sort_values(ascending=False)\n",
    "\n",
    "# take top 10\n",
    "top_10_DRG = DRG_sorted.head(10)\n",
    "top_10_DRG\n",
    "\n",
    "# Convert to \"millions of\" \n",
    "top_10_DRG = top_10_DRG/100000"
   ]
  },
  {
   "cell_type": "code",
   "execution_count": 19,
   "id": "60950659-8632-4c23-8401-8516575eff53",
   "metadata": {},
   "outputs": [],
   "source": [
    "df.to_csv('renamed_MedicareAnalysis.csv', index=False)"
   ]
  },
  {
   "cell_type": "code",
   "execution_count": 24,
   "id": "1ee87f2c-df49-4b15-83bd-52ec28558f2d",
   "metadata": {},
   "outputs": [],
   "source": [
    "pd.set_option('display.float_format', '{:,.2f}'.format)"
   ]
  },
  {
   "cell_type": "code",
   "execution_count": 45,
   "id": "bb865b50-7229-41ad-8e32-6d09043d240c",
   "metadata": {},
   "outputs": [
    {
     "name": "stderr",
     "output_type": "stream",
     "text": [
      "C:\\Users\\leigh\\AppData\\Local\\Temp\\ipykernel_24864\\112971188.py:4: FutureWarning: \n",
      "\n",
      "Passing `palette` without assigning `hue` is deprecated and will be removed in v0.14.0. Assign the `y` variable to `hue` and set `legend=False` for the same effect.\n",
      "\n",
      "  sns.barplot(\n",
      "C:\\Users\\leigh\\AppData\\Local\\Temp\\ipykernel_24864\\112971188.py:14: UserWarning: Tight layout not applied. The left and right margins cannot be made large enough to accommodate all Axes decorations.\n",
      "  plt.tight_layout()\n"
     ]
    },
    {
     "data": {
      "image/png": "[encoded data removed]",
      "text/plain": [
       "<Figure size 640x480 with 1 Axes>"
      ]
     },
     "metadata": {},
     "output_type": "display_data"
    }
   ],
   "source": [
    "# Create a plotted bar chart of the average covered charges shown above \n",
    "import matplotlib.ticker as mtick \n",
    "\n",
    "sns.barplot(\n",
    "    y=top_10_DRG.index,\n",
    "    x=top_10_DRG.values,\n",
    "    palette='rocket'\n",
    ")\n",
    "plt.xlabel('Average Covered Charges ($)')\n",
    "plt.ylabel('Diagnosis Related Group')\n",
    "plt.title('Top 10 Diagnosis Related Groups by Average Covered Charges')\n",
    "\n",
    "plt.gca().xaxis.set_major_formatter(mtick.StrMethodFormatter('${x:,.1f}M'))\n",
    "plt.tight_layout()\n",
    "plt.show()"
   ]
  },
  {
   "cell_type": "code",
   "execution_count": 67,
   "id": "263b3567-b78e-48e6-9abb-78b3ce589b76",
   "metadata": {},
   "outputs": [
    {
     "data": {
      "text/html": [
       "<div>\n",
       "<style scoped>\n",
       "    .dataframe tbody tr th:only-of-type {\n",
       "        vertical-align: middle;\n",
       "    }\n",
       "\n",
       "    .dataframe tbody tr th {\n",
       "        vertical-align: top;\n",
       "    }\n",
       "\n",
       "    .dataframe thead th {\n",
       "        text-align: right;\n",
       "    }\n",
       "</style>\n",
       "<table border=\"1\" class=\"dataframe\">\n",
       "  <thead>\n",
       "    <tr style=\"text-align: right;\">\n",
       "      <th></th>\n",
       "      <th>Rendering Provider State Abreviation</th>\n",
       "      <th>Rendering Provider Org. Name</th>\n",
       "      <th>Average Medicare Payments</th>\n",
       "    </tr>\n",
       "  </thead>\n",
       "  <tbody>\n",
       "    <tr>\n",
       "      <th>0</th>\n",
       "      <td>AK</td>\n",
       "      <td>Alaska Native Medical Center</td>\n",
       "      <td>22,475.16</td>\n",
       "    </tr>\n",
       "    <tr>\n",
       "      <th>1</th>\n",
       "      <td>AK</td>\n",
       "      <td>Alaska Regional Hospital</td>\n",
       "      <td>18,633.17</td>\n",
       "    </tr>\n",
       "    <tr>\n",
       "      <th>2</th>\n",
       "      <td>AK</td>\n",
       "      <td>Bartlett Regional Hospital</td>\n",
       "      <td>23,793.11</td>\n",
       "    </tr>\n",
       "    <tr>\n",
       "      <th>3</th>\n",
       "      <td>AK</td>\n",
       "      <td>Central Peninsula General Hospital</td>\n",
       "      <td>19,220.13</td>\n",
       "    </tr>\n",
       "    <tr>\n",
       "      <th>4</th>\n",
       "      <td>AK</td>\n",
       "      <td>Fairbanks Memorial Hospital</td>\n",
       "      <td>21,495.00</td>\n",
       "    </tr>\n",
       "    <tr>\n",
       "      <th>...</th>\n",
       "      <td>...</td>\n",
       "      <td>...</td>\n",
       "      <td>...</td>\n",
       "    </tr>\n",
       "    <tr>\n",
       "      <th>3005</th>\n",
       "      <td>WY</td>\n",
       "      <td>Sagewest Health Care</td>\n",
       "      <td>11,181.17</td>\n",
       "    </tr>\n",
       "    <tr>\n",
       "      <th>3006</th>\n",
       "      <td>WY</td>\n",
       "      <td>Sheridan Memorial Hospital</td>\n",
       "      <td>13,958.53</td>\n",
       "    </tr>\n",
       "    <tr>\n",
       "      <th>3007</th>\n",
       "      <td>WY</td>\n",
       "      <td>St Johns Medical Center</td>\n",
       "      <td>24,451.54</td>\n",
       "    </tr>\n",
       "    <tr>\n",
       "      <th>3008</th>\n",
       "      <td>WY</td>\n",
       "      <td>Summit Medical Center</td>\n",
       "      <td>11,028.23</td>\n",
       "    </tr>\n",
       "    <tr>\n",
       "      <th>3009</th>\n",
       "      <td>WY</td>\n",
       "      <td>Wyoming Medical Center</td>\n",
       "      <td>15,328.29</td>\n",
       "    </tr>\n",
       "  </tbody>\n",
       "</table>\n",
       "<p>3010 rows × 3 columns</p>\n",
       "</div>"
      ],
      "text/plain": [
       "     Rendering Provider State Abreviation        Rendering Provider Org. Name  \\\n",
       "0                                      AK        Alaska Native Medical Center   \n",
       "1                                      AK            Alaska Regional Hospital   \n",
       "2                                      AK          Bartlett Regional Hospital   \n",
       "3                                      AK  Central Peninsula General Hospital   \n",
       "4                                      AK         Fairbanks Memorial Hospital   \n",
       "...                                   ...                                 ...   \n",
       "3005                                   WY                Sagewest Health Care   \n",
       "3006                                   WY          Sheridan Memorial Hospital   \n",
       "3007                                   WY             St Johns Medical Center   \n",
       "3008                                   WY               Summit Medical Center   \n",
       "3009                                   WY              Wyoming Medical Center   \n",
       "\n",
       "      Average Medicare Payments  \n",
       "0                     22,475.16  \n",
       "1                     18,633.17  \n",
       "2                     23,793.11  \n",
       "3                     19,220.13  \n",
       "4                     21,495.00  \n",
       "...                         ...  \n",
       "3005                  11,181.17  \n",
       "3006                  13,958.53  \n",
       "3007                  24,451.54  \n",
       "3008                  11,028.23  \n",
       "3009                  15,328.29  \n",
       "\n",
       "[3010 rows x 3 columns]"
      ]
     },
     "execution_count": 67,
     "metadata": {},
     "output_type": "execute_result"
    }
   ],
   "source": [
    "# Show average medicare payments by Rendering Provider Org. Name, further grouped by Rendering Provider State \n",
    "\n",
    "# Group by State and Provider Org name, calculate average medicare payment\n",
    "grouped_payment = df.groupby(\n",
    "    ['Rendering Provider State Abreviation', 'Rendering Provider Org. Name']\n",
    ")['Average Medicare Payments'].mean().reset_index()\n",
    "\n",
    "grouped_payment"
   ]
  },
  {
   "cell_type": "code",
   "execution_count": 68,
   "id": "a73ffaa9-7916-4870-ab9f-d5d8b8f02ef5",
   "metadata": {},
   "outputs": [
    {
     "data": {
      "text/html": [
       "<div>\n",
       "<style scoped>\n",
       "    .dataframe tbody tr th:only-of-type {\n",
       "        vertical-align: middle;\n",
       "    }\n",
       "\n",
       "    .dataframe tbody tr th {\n",
       "        vertical-align: top;\n",
       "    }\n",
       "\n",
       "    .dataframe thead th {\n",
       "        text-align: right;\n",
       "    }\n",
       "</style>\n",
       "<table border=\"1\" class=\"dataframe\">\n",
       "  <thead>\n",
       "    <tr style=\"text-align: right;\">\n",
       "      <th></th>\n",
       "      <th>Rendering Provider State Abreviation</th>\n",
       "      <th>Rendering Provider Org. Name</th>\n",
       "      <th>Average Medicare Payments</th>\n",
       "    </tr>\n",
       "  </thead>\n",
       "  <tbody>\n",
       "    <tr>\n",
       "      <th>2576</th>\n",
       "      <td>TX</td>\n",
       "      <td>Faith Community Hospital</td>\n",
       "      <td>349,857.69</td>\n",
       "    </tr>\n",
       "    <tr>\n",
       "      <th>715</th>\n",
       "      <td>GA</td>\n",
       "      <td>Burke Medical Center</td>\n",
       "      <td>250,429.07</td>\n",
       "    </tr>\n",
       "    <tr>\n",
       "      <th>2585</th>\n",
       "      <td>TX</td>\n",
       "      <td>Harris Health System</td>\n",
       "      <td>119,369.69</td>\n",
       "    </tr>\n",
       "    <tr>\n",
       "      <th>944</th>\n",
       "      <td>IL</td>\n",
       "      <td>Provident Hospital Of Chicago</td>\n",
       "      <td>108,467.08</td>\n",
       "    </tr>\n",
       "    <tr>\n",
       "      <th>2757</th>\n",
       "      <td>TX</td>\n",
       "      <td>Wise Health System</td>\n",
       "      <td>99,187.79</td>\n",
       "    </tr>\n",
       "    <tr>\n",
       "      <th>903</th>\n",
       "      <td>IL</td>\n",
       "      <td>John H Stroger Jr Hospital</td>\n",
       "      <td>69,608.62</td>\n",
       "    </tr>\n",
       "    <tr>\n",
       "      <th>1309</th>\n",
       "      <td>MD</td>\n",
       "      <td>Levindale Hebrew Geriatric Center And Hospital</td>\n",
       "      <td>65,489.13</td>\n",
       "    </tr>\n",
       "    <tr>\n",
       "      <th>1331</th>\n",
       "      <td>MD</td>\n",
       "      <td>University Of Maryland Medical Center</td>\n",
       "      <td>58,845.15</td>\n",
       "    </tr>\n",
       "    <tr>\n",
       "      <th>1912</th>\n",
       "      <td>NY</td>\n",
       "      <td>Metropolitan Hospital Center</td>\n",
       "      <td>54,154.88</td>\n",
       "    </tr>\n",
       "    <tr>\n",
       "      <th>179</th>\n",
       "      <td>AZ</td>\n",
       "      <td>Valleywise Health Medical Center</td>\n",
       "      <td>53,436.48</td>\n",
       "    </tr>\n",
       "  </tbody>\n",
       "</table>\n",
       "</div>"
      ],
      "text/plain": [
       "     Rendering Provider State Abreviation  \\\n",
       "2576                                   TX   \n",
       "715                                    GA   \n",
       "2585                                   TX   \n",
       "944                                    IL   \n",
       "2757                                   TX   \n",
       "903                                    IL   \n",
       "1309                                   MD   \n",
       "1331                                   MD   \n",
       "1912                                   NY   \n",
       "179                                    AZ   \n",
       "\n",
       "                        Rendering Provider Org. Name  \\\n",
       "2576                        Faith Community Hospital   \n",
       "715                             Burke Medical Center   \n",
       "2585                            Harris Health System   \n",
       "944                    Provident Hospital Of Chicago   \n",
       "2757                              Wise Health System   \n",
       "903                       John H Stroger Jr Hospital   \n",
       "1309  Levindale Hebrew Geriatric Center And Hospital   \n",
       "1331           University Of Maryland Medical Center   \n",
       "1912                    Metropolitan Hospital Center   \n",
       "179                 Valleywise Health Medical Center   \n",
       "\n",
       "      Average Medicare Payments  \n",
       "2576                 349,857.69  \n",
       "715                  250,429.07  \n",
       "2585                 119,369.69  \n",
       "944                  108,467.08  \n",
       "2757                  99,187.79  \n",
       "903                   69,608.62  \n",
       "1309                  65,489.13  \n",
       "1331                  58,845.15  \n",
       "1912                  54,154.88  \n",
       "179                   53,436.48  "
      ]
     },
     "execution_count": 68,
     "metadata": {},
     "output_type": "execute_result"
    }
   ],
   "source": [
    "# Sort by payment amounts, descending values, look at first 10 - regardless of state \n",
    "grouped_payment= grouped_payment.sort_values(by='Average Medicare Payments', ascending=False)\n",
    "grouped_payment.head(10)\n"
   ]
  },
  {
   "cell_type": "code",
   "execution_count": null,
   "id": "485c0d22-6a3f-4f95-a3ed-cdc331854a24",
   "metadata": {},
   "outputs": [],
   "source": []
  }
 ],
 "metadata": {
  "kernelspec": {
   "display_name": "Python 3 (ipykernel)",
   "language": "python",
   "name": "python3"
  },
  "language_info": {
   "codemirror_mode": {
    "name": "ipython",
    "version": 3
   },
   "file_extension": ".py",
   "mimetype": "text/x-python",
   "name": "python",
   "nbconvert_exporter": "python",
   "pygments_lexer": "ipython3",
   "version": "3.13.3"
  }
 },
 "nbformat": 4,
 "nbformat_minor": 5
}
